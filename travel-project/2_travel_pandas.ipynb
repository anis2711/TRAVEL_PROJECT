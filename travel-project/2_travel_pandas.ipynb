{
 "cells": [
  {
   "cell_type": "markdown",
   "metadata": {},
   "source": [
    "# En voyage avec (des) pandas\n",
    "\n",
    "Suite à la première étape où vous avez découvert (ou révisé) des bases de Python, vous allez découvrir (ou réviser) l'utilisation de la bibliothèque **pandas** pour traiter un fichier csv travel_data.csv qui contient un carnet de voyage.\n",
    "\n",
    "Pour réaliser les exercices, utilisez la documentation officielle de pandas :  \n",
    "https://pandas.pydata.org/pandas-docs/stable/\n",
    "\n",
    "N'hésitez pas à rechercher les fonctions, méthodes et exemples nécessaires pour compléter les tâches demandées.  \n",
    "\n",
    "Chaque cellule de code est précédée d'une cellule TODO indiquant la liste des objectifs à atteindre.\n",
    "\n",
    "Répondez également dans le notebook aux petites questions proposées."
   ]
  },
  {
   "cell_type": "code",
   "execution_count": 1,
   "id": "b5c50044",
   "metadata": {},
   "outputs": [
    {
     "name": "stdout",
     "output_type": "stream",
     "text": [
      "Requirement already satisfied: pandas in c:\\users\\anis\\desktop\\travel-project\\.venv\\lib\\site-packages (2.3.1)"
     ]
    },
    {
     "name": "stderr",
     "output_type": "stream",
     "text": [
      "\n",
      "[notice] A new release of pip is available: 23.0.1 -> 25.1.1\n",
      "[notice] To update, run: python.exe -m pip install --upgrade pip\n"
     ]
    },
    {
     "name": "stdout",
     "output_type": "stream",
     "text": [
      "\n",
      "Requirement already satisfied: python-dateutil>=2.8.2 in c:\\users\\anis\\desktop\\travel-project\\.venv\\lib\\site-packages (from pandas) (2.9.0.post0)\n",
      "Requirement already satisfied: tzdata>=2022.7 in c:\\users\\anis\\desktop\\travel-project\\.venv\\lib\\site-packages (from pandas) (2025.2)\n",
      "Requirement already satisfied: pytz>=2020.1 in c:\\users\\anis\\desktop\\travel-project\\.venv\\lib\\site-packages (from pandas) (2025.2)\n",
      "Requirement already satisfied: numpy>=1.22.4 in c:\\users\\anis\\desktop\\travel-project\\.venv\\lib\\site-packages (from pandas) (2.2.6)\n",
      "Requirement already satisfied: six>=1.5 in c:\\users\\anis\\desktop\\travel-project\\.venv\\lib\\site-packages (from python-dateutil>=2.8.2->pandas) (1.17.0)\n"
     ]
    }
   ],
   "source": [
    "# Il faut installer la bibliothèque pandas. On verra comment faire ça proprement plus tard.\n",
    "!pip install pandas"
   ]
  },
  {
   "cell_type": "markdown",
   "metadata": {},
   "source": [
    "# 1. Charger et afficher les données\n",
    "\n",
    "**TODO**\n",
    "\n",
    "- Importer la bibliothèque pandas sous l’alias `pd`  \n",
    "- Charger le fichier `travel_journal.csv` dans un DataFrame `df_trips`  \n",
    "- Afficher les 5 premières lignes du DataFrame  \n",
    "- Afficher les types de données des colonnes"
   ]
  },
  {
   "cell_type": "code",
   "execution_count": 2,
   "metadata": {},
   "outputs": [
    {
     "name": "stdout",
     "output_type": "stream",
     "text": [
      "        city        date weather     mood  photos\n",
      "0      Paris  2024-03-15   sunny    happy     150\n",
      "1       Lyon  2024-04-10  cloudy  curious      80\n",
      "2  Marseille  2024-05-05     NaN      sad      25\n",
      "3   Bordeaux  2024-06-20   sunny  excited     200\n",
      "4       Nice  2024-07-12   sunny  relaxed     180\n",
      "city       object\n",
      "date       object\n",
      "weather    object\n",
      "mood       object\n",
      "photos      int64\n",
      "dtype: object\n"
     ]
    }
   ],
   "source": [
    "# Importer pandas\n",
    "import pandas as pd\n",
    "\n",
    "# Charger le fichier CSV dans un DataFrame\n",
    "df_trips = pd.read_csv(\"travel_data.csv\")\n",
    "\n",
    "# Afficher les 5 premières lignes\n",
    "print(df_trips.head())\n",
    "\n",
    "# Afficher les types de données des colonnes\n",
    "print(df_trips.dtypes)"
   ]
  },
  {
   "cell_type": "markdown",
   "metadata": {},
   "source": [
    "# 2. Nettoyer les données manquantes\n",
    "\n",
    "**TODO**\n",
    "\n",
    "- Identifier les lignes avec des valeurs manquantes dans le DataFrame  \n",
    "- Remplacer les valeurs manquantes dans la colonne `weather` par `\"unknown\"`  \n",
    "- Convertir la colonne `date` en format datetime  \n",
    "- Trier le DataFrame par date croissante\n",
    "- Exporter les données dans un fichier clean_travel_data.csv\n",
    "- A votre avis quel autre type de vérifications pourrait-on faire afin de nettoyer les données ?"
   ]
  },
  {
   "cell_type": "code",
   "execution_count": 3,
   "metadata": {},
   "outputs": [
    {
     "name": "stdout",
     "output_type": "stream",
     "text": [
      "city       0\n",
      "date       0\n",
      "weather    2\n",
      "mood       0\n",
      "photos     0\n",
      "dtype: int64\n"
     ]
    },
    {
     "name": "stderr",
     "output_type": "stream",
     "text": [
      "C:\\Users\\ANIS\\AppData\\Local\\Temp\\ipykernel_8636\\2694477713.py:5: FutureWarning: A value is trying to be set on a copy of a DataFrame or Series through chained assignment using an inplace method.\n",
      "The behavior will change in pandas 3.0. This inplace method will never work because the intermediate object on which we are setting values always behaves as a copy.\n",
      "\n",
      "For example, when doing 'df[col].method(value, inplace=True)', try using 'df.method({col: value}, inplace=True)' or df[col] = df[col].method(value) instead, to perform the operation inplace on the original object.\n",
      "\n",
      "\n",
      "  df_trips[\"weather\"].fillna(\"unknown\", inplace=True)\n"
     ]
    }
   ],
   "source": [
    "# Identifier les lignes avec des valeurs manquantes\n",
    "print(df_trips.isnull().sum())\n",
    "\n",
    "# Remplacer les valeurs manquantes dans la colonne 'weather' par \"unknown\"\n",
    "df_trips[\"weather\"].fillna(\"unknown\", inplace=True)\n",
    "\n",
    "# Convertir la colonne 'date' en format datetime\n",
    "df_trips[\"date\"] = pd.to_datetime(df_trips[\"date\"])\n",
    "\n",
    "# Trier le DataFrame par date croissante\n",
    "df_trips = df_trips.sort_values(\"date\")\n",
    "\n",
    "# Exporter les données nettoyées\n",
    "df_trips.to_csv(\"clean_travel_data.csv\", index=False)\n",
    "\n",
    "# Autres vérifications possibles : doublons, valeurs aberrantes, types de données incohérents, etc."
   ]
  },
  {
   "cell_type": "markdown",
   "metadata": {},
   "source": [
    "# 3. Filtrer et trier les voyages\n",
    "\n",
    "**TODO**\n",
    "\n",
    "- Extraire les voyages où la météo est `\"sunny\"` et le nombre de photos est supérieur à 100  \n",
    "- Trier ces voyages par nombre de photos décroissant  \n",
    "- Afficher les colonnes `city`, `date`, `photos` du résultat filtré"
   ]
  },
  {
   "cell_type": "code",
   "execution_count": 4,
   "metadata": {},
   "outputs": [
    {
     "name": "stdout",
     "output_type": "stream",
     "text": [
      "          city       date  photos\n",
      "3     Bordeaux 2024-06-20     200\n",
      "4         Nice 2024-07-12     180\n",
      "0        Paris 2024-03-15     150\n",
      "8  Montpellier 2024-11-25     110\n"
     ]
    }
   ],
   "source": [
    "# Extraire les voyages où la météo est \"sunny\" et le nombre de photos > 100\n",
    "filtered = df_trips[(df_trips[\"weather\"] == \"sunny\") & (df_trips[\"photos\"] > 100)]\n",
    "\n",
    "# Trier ces voyages par nombre de photos décroissant\n",
    "filtered = filtered.sort_values(\"photos\", ascending=False)\n",
    "\n",
    "# Afficher les colonnes city, date, photos\n",
    "print(filtered[[\"city\", \"date\", \"photos\"]])"
   ]
  },
  {
   "cell_type": "markdown",
   "metadata": {},
   "source": [
    "# 4. Groupements et agrégations\n",
    "\n",
    "**TODO**\n",
    "\n",
    "- Calculer le total des photos prises par ville  \n",
    "- Calculer la moyenne des photos selon la météo  \n",
    "- Compter le nombre de voyages par humeur (mood)"
   ]
  },
  {
   "cell_type": "code",
   "execution_count": 5,
   "metadata": {},
   "outputs": [
    {
     "name": "stdout",
     "output_type": "stream",
     "text": [
      "city\n",
      "Bordeaux       230\n",
      "Grenoble         5\n",
      "Lyon           175\n",
      "Marseille      100\n",
      "Montpellier    145\n",
      "Nantes         135\n",
      "Nice           220\n",
      "Paris          280\n",
      "Strasbourg      75\n",
      "Toulouse       175\n",
      "Name: photos, dtype: int64\n",
      "weather\n",
      "cloudy      88.75\n",
      "rainy       31.25\n",
      "snowy        2.50\n",
      "sunny      120.00\n",
      "unknown     47.50\n",
      "Name: photos, dtype: float64\n",
      "mood\n",
      "happy         3\n",
      "excited       3\n",
      "curious       2\n",
      "joyful        2\n",
      "sad           2\n",
      "relaxed       2\n",
      "thoughtful    2\n",
      "calm          2\n",
      "bored         1\n",
      "cold          1\n",
      "Name: count, dtype: int64\n"
     ]
    }
   ],
   "source": [
    "# Total des photos prises par ville\n",
    "print(df_trips.groupby(\"city\")[\"photos\"].sum())\n",
    "\n",
    "# Moyenne des photos selon la météo\n",
    "print(df_trips.groupby(\"weather\")[\"photos\"].mean())\n",
    "\n",
    "# Nombre de voyages par humeur (mood)\n",
    "print(df_trips[\"mood\"].value_counts())"
   ]
  }
 ],
 "metadata": {
  "kernelspec": {
   "display_name": ".venv",
   "language": "python",
   "name": "python3"
  },
  "language_info": {
   "codemirror_mode": {
    "name": "ipython",
    "version": 3
   },
   "file_extension": ".py",
   "mimetype": "text/x-python",
   "name": "python",
   "nbconvert_exporter": "python",
   "pygments_lexer": "ipython3",
   "version": "3.10.11"
  }
 },
 "nbformat": 4,
 "nbformat_minor": 5
}
