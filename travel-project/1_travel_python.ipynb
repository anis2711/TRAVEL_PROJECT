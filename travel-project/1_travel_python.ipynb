{
 "cells": [
  {
   "cell_type": "markdown",
   "id": "afa68136",
   "metadata": {},
   "source": [
    "# En voyage avec (un) python\n",
    "\n",
    "Dans ce notebook on vous propose de découvrir quelques bases de python en s'intéressant à des carnets de voyage."
   ]
  },
  {
   "cell_type": "markdown",
   "id": "bf55835c",
   "metadata": {},
   "source": [
    "### 1 – Moyenne de photos prises par jour  \n",
    "On stocke des informations sur un voyage (_variables_), on calcule le nombre de photos prises par jour, et on affiche le résumé (`print`).\n",
    "\n",
    "Les f-strings permettent de faire de l'affichage (`print`) sans utiliser de virgules si vous voulez afficher à la fois du texte et une variable.\n",
    "\n",
    "Exemple : \n",
    "\n",
    "```print(f'Ma variable est égale à {nom_de_ma_variable})```\n",
    "\n",
    "\n",
    "Les # permettent d'écrire des commentaires, c'est-à-dire des lignes qui ne font pas parties du code au moment de l'éxécution.\n",
    "\n",
    "**TODO**\n",
    "\n",
    "- Calculer le nombre moyen de photos pris par jour durant le voyage,\n",
    "- Ajouter une nouvelle variable de votre choix et un nouveau calcul de variable,\n",
    "- Utiliser cette méthode pour afficher le nombre moyen de photo prises par jour."
   ]
  },
  {
   "cell_type": "code",
   "execution_count": 1,
   "id": "b05d9e4b",
   "metadata": {},
   "outputs": [
    {
     "name": "stdout",
     "output_type": "stream",
     "text": [
      "<class 'str'>\n"
     ]
    }
   ],
   "source": [
    "# Define variables for the trip\n",
    "city = \"Montpellier\" \n",
    "\n",
    "# Plot variable type\n",
    "print(type(city)) # string = chaîne de caractères\n",
    "\n",
    "department = 34\n",
    "days_spent = 5.5 # float = nombre décimal\n",
    "photos_taken = 230 # integer = nombre entier\n",
    "great_trip = True # boolean = vrai ou faux"
   ]
  },
  {
   "cell_type": "code",
   "execution_count": 2,
   "id": "0063454a",
   "metadata": {},
   "outputs": [
    {
     "name": "stdout",
     "output_type": "stream",
     "text": [
      "True\n",
      "True\n"
     ]
    }
   ],
   "source": [
    "# Compare variables\n",
    "print(photos_taken > 200) # > est un opérateur de comparaison\n",
    "print(great_trip == True) # == is equal to, True if values are equal, False otherwise"
   ]
  },
  {
   "cell_type": "code",
   "execution_count": 3,
   "id": "4f0fbe5c",
   "metadata": {},
   "outputs": [
    {
     "name": "stdout",
     "output_type": "stream",
     "text": [
      "City Montpellier\n",
      "Days Spent 5.5\n",
      "Nombre moyen de photos prises par jour : 41.82\n",
      "Nombre de photos par kilomètre parcouru : 4.60\n"
     ]
    }
   ],
   "source": [
    "# new variable\n",
    "distance_traveled = 50\n",
    "# Calculate average photos per day\n",
    "average_photos_per_day = photos_taken / days_spent\n",
    "# Calculate something else using your new variable\n",
    "photos_per_km = photos_taken / distance_traveled\n",
    "\n",
    "# Print text and variables \n",
    "print(\"City\", city)\n",
    "print(\"Days Spent\", days_spent)\n",
    "\n",
    "# Print average number of photo using f-strings\n",
    "print(f\"Nombre moyen de photos prises par jour : {average_photos_per_day:.2f}\")\n",
    "print(f\"Nombre de photos par kilomètre parcouru : {photos_per_km:.2f}\")"
   ]
  },
  {
   "cell_type": "markdown",
   "id": "dff2a6fe",
   "metadata": {},
   "source": [
    "### 2 – Analyser la météo  \n",
    "\n",
    "__Syntaxe__\n",
    "\n",
    "```\n",
    "# Si la condition_1 est True, alors faire la task_1\n",
    "if condition_1:\n",
    "    faire task_1\n",
    "# Si la condition 2 est True, alors faire la task_2\n",
    "elif condtion_2: \n",
    "    faire task_2\n",
    "# Si la condition 2 est True, alors faire la task_2\n",
    "elif condtion_3: \n",
    "    faire task_3\n",
    "# Sinon faire la task_4\n",
    "else:\n",
    "    faire task_4\n",
    "```\n",
    "\n",
    "Pour la syntaxe et des exemples de conditions, voir la partie précédente du code #Compare variables\n",
    "\n",
    "**TODO**\n",
    "\n",
    "- Créer une liste de plusieurs chaînes de caractères contenant des indications de météo [`string`, `string`].\n",
    "- Créer une variable qui indique la météo d'un jour particulier (`string`).\n",
    "- Analyser la météo et afficher un message personnalisé selon le cas ( `if`, `elif`, `else`).\n",
    "\n",
    "\n"
   ]
  },
  {
   "cell_type": "code",
   "execution_count": 4,
   "id": "61cc3382",
   "metadata": {},
   "outputs": [
    {
     "name": "stdout",
     "output_type": "stream",
     "text": [
      "Super, il fait beau aujourd'hui !\n"
     ]
    }
   ],
   "source": [
    "# Set the weather condition\n",
    "weather =  \"ensoleillé\"\n",
    "\n",
    "# List of accepted weather values (at least 3 different value)\n",
    "valid_weather =  [\"ensoleillé\", \"pluvieux\", \"nuageux\"]\n",
    "\n",
    "# Check if the weather is in the list of valid_weather values\n",
    "if weather not in valid_weather:\n",
    "\n",
    "    print(\"Unknown weather type.\")\n",
    "else:\n",
    "    if weather == \"ensoleillé\":\n",
    "        print(\"Super, il fait beau aujourd'hui !\")\n",
    "    elif weather == \"pluvieux\":\n",
    "        print(\"N'oublie pas ton parapluie !\")\n",
    "    elif weather == \"nuageux\":\n",
    "        print(\"Le ciel est couvert, mais il ne pleut pas.\")"
   ]
  },
  {
   "cell_type": "markdown",
   "id": "8ea60ed0",
   "metadata": {},
   "source": [
    "### 3 - Un dictionnaire de voyage\n",
    "On peut stocker un voyage avec les informations associées dans un dictionnaire.\n",
    "\n",
    "__Syntaxe__\n",
    "\n",
    "\n",
    "````\n",
    "trip = {\"nom information 1\": valeur information 1, \"nom information 2\": valeur information 2}\n",
    "````\n",
    "\n",
    "- Il peut y avoir autant de paire clé/valeur que l'on souhaite.\n",
    "\n",
    "- La clé est nécéssairement une __chaîne de caractère__, la valeur de n'importe quel type (même un autre dictionnaire).\n",
    "\n",
    "\n",
    "\n",
    "````print(trip[\"nom information 1\"])```` affiche ````valeur information 1````\n",
    "\n",
    "````trip[\"nom information 1\"]) = nouvelle valeur````\n",
    "\n",
    "\n",
    "\n",
    "**TODO**\n",
    "\n",
    "- Ajouter au moins deux autres paires de clé/valeur dans le dictionnaire suivant.\n",
    "- Afficher un petit résumé du voyage, incluant un calcul du nombre moyen de photo prises par jour"
   ]
  },
  {
   "cell_type": "code",
   "execution_count": 5,
   "id": "3fce9517",
   "metadata": {},
   "outputs": [
    {
     "name": "stdout",
     "output_type": "stream",
     "text": [
      "Résumé du voyage à Montpellier (été) :\n",
      "Département : 34\n",
      "Distance parcourue : 50 km\n",
      "Nombre moyen de photos prises par jour : 27.27\n"
     ]
    }
   ],
   "source": [
    "# Create a dictionary for one trip\n",
    "trip = {\n",
    "    \"city\": \"Montpellier\",\n",
    "    \"department\": 34,\n",
    "    \"photos_taken\": 150,\n",
    "    \"days_spent\": 5.5,\n",
    "    \"season\": \"été\",            # nouvelle paire clé/valeur\n",
    "    \"distance_traveled\": 50   # nouvelle paire clé/valeur\n",
    "}\n",
    "\n",
    "# Print a trip summary\n",
    "average_photos_per_day = trip[\"photos_taken\"] / trip[\"days_spent\"]\n",
    "print(f\"Résumé du voyage à {trip['city']} ({trip['season']}) :\")\n",
    "print(f\"Département : {trip['department']}\")\n",
    "print(f\"Distance parcourue : {trip['distance_traveled']} km\")\n",
    "print(f\"Nombre moyen de photos prises par jour : {average_photos_per_day:.2f}\")\n"
   ]
  },
  {
   "cell_type": "markdown",
   "id": "87488af5",
   "metadata": {},
   "source": [
    "### 4 - Carnet de voyage  \n",
    "\n",
    "On stocke plusieurs voyages dans une liste et on les affiche un à un.\n",
    "\n",
    "On peut parcourir tous les éléments d'une liste en faisant une boucle ```for```.\n",
    "\n",
    "__Syntaxe__\n",
    "\n",
    "\n",
    "````\n",
    "my_list = [element_1, element_2]\n",
    "for element in my_list:\n",
    "    print(element)\n",
    "````\n",
    "\n",
    "**TODO**\n",
    "- Afficher un élément de la liste. Ex : `my_list[0]` affiche le premier élément\n",
    "- Compter le nombre de voyage en utilisant `len(my_list)`\n",
    "- Pour chaque voyage de la liste, afficher un court résumé incluant un calcul du nombre moyen de photo prises par jour"
   ]
  },
  {
   "cell_type": "code",
   "execution_count": 6,
   "id": "291fc9ec",
   "metadata": {},
   "outputs": [
    {
     "name": "stdout",
     "output_type": "stream",
     "text": [
      "{'city': 'Montpellier', 'department': 34, 'photos_taken': 150, 'days_spent': 5.5, 'season': 'été', 'distance_traveled': 50}\n",
      "Nombre de voyages : 3\n",
      "Travel Journal:\n",
      "- Montpellier (été), 5.5 jours, 150 photos, moyenne par jour : 27.27\n",
      "- Paris (printemps), 3 jours, 200 photos, moyenne par jour : 66.67\n",
      "- Lyon (hiver), 2 jours, 120 photos, moyenne par jour : 60.00\n"
     ]
    }
   ],
   "source": [
    "# TODO Add new trips to the list of trips\n",
    "trip_list = [trip, \n",
    "    {\n",
    "        \"city\": \"Paris\",\n",
    "        \"department\": 75,\n",
    "        \"photos_taken\": 200,\n",
    "        \"days_spent\": 3,\n",
    "        \"season\": \"printemps\",\n",
    "        \"distance_traveled\": 20\n",
    "    },\n",
    "    {\n",
    "        \"city\": \"Lyon\",\n",
    "        \"department\": 69,\n",
    "        \"photos_taken\": 120,\n",
    "        \"days_spent\": 2,\n",
    "        \"season\": \"hiver\",\n",
    "        \"distance_traveled\": 15\n",
    "    }\n",
    "]\n",
    "\n",
    "# TODO Print one element of the trip_list\n",
    "print(trip_list[0])  # Affiche le premier voyage\n",
    "\n",
    "# TODO Print the number of trips in the trip_list\n",
    "print(f\"Nombre de voyages : {len(trip_list)}\")\n",
    "\n",
    "# Loop through and print each trip\n",
    "print(\"Travel Journal:\")\n",
    "\n",
    "# TODO Loop through trip_list and print each trip\n",
    "for t in trip_list:\n",
    "    avg_photos = t[\"photos_taken\"] / t[\"days_spent\"]\n",
    "    print(f\"- {t['city']} ({t['season']}), {t['days_spent']} jours, {t['photos_taken']} photos, moyenne par jour : {avg_photos:.2f}\")"
   ]
  },
  {
   "cell_type": "markdown",
   "id": "4d0ea091",
   "metadata": {},
   "source": [
    "### 5 - Utiliser des fonctions \n",
    "On a écrit plusieurs fois le numéro du département de Montpellier. On sait qu'il ne va pas changer au cours du projet, dans ce cas une bonne pratique pour savoir de quoi on parle et d'éviter les erreurs de recopie est de définir une variable en début de projet qu'on pourra réutiliser dés que nécessaire :\n",
    "\n",
    "```DEPARTEMENT = 34```\n",
    "\n",
    "On a également écrit plein de fois le calcul du nombre de photos par jour. On peut créer une fonction que l'on pourra réutiliser dés que nécessairequi prendra en entrée un voyage, qui fera le calcul et qui retournera le nombre moyen de photo.\n",
    "\n",
    "Après le nom de la fonction, on ajoute entre \"\"\" de la documentation sur les paramètres d'entrée (type et explication) et sur les sorties \"\"\"."
   ]
  },
  {
   "cell_type": "code",
   "execution_count": 7,
   "id": "1724eb3a",
   "metadata": {},
   "outputs": [],
   "source": [
    "def compute_average_photos_per_day(trip):\n",
    "    \"\"\"\n",
    "    Calculate the average number of photos taken per day for a trip.\n",
    "\n",
    "    Parameters\n",
    "    ----------\n",
    "    trip (dict)\n",
    "        Dictionary containing trip details including 'photos_taken' and 'days_spent'.   \n",
    "\n",
    "    Returns\n",
    "    -------\n",
    "    float\n",
    "        Average number of photos taken per day.\n",
    "    \"\"\"\n",
    "    return trip['photos_taken'] / trip['days_spent']\n",
    "    \n",
    "# Example usage\n",
    "trip_example = {\n",
    "    \"city\": \"Montpellier\",\n",
    "    \"department\": 34,\n",
    "    \"photos_taken\": 150,\n",
    "    \"days_spent\": 5.5,\n",
    "}\n",
    "average_photos = compute_average_photos_per_day(trip_example)"
   ]
  },
  {
   "cell_type": "markdown",
   "id": "bac621fe",
   "metadata": {},
   "source": [
    "**TODO**\n",
    "\n",
    "- Tester la fonction dans le case où ````photos_taken = 0````\n",
    "- Lire l'erreur\n",
    "- Adapter la fonction en utilisant une condition (if, else) pour renvoyer 0 dans ce cas."
   ]
  },
  {
   "cell_type": "code",
   "execution_count": 8,
   "id": "2caeba0f",
   "metadata": {},
   "outputs": [
    {
     "name": "stdout",
     "output_type": "stream",
     "text": [
      "0.0\n"
     ]
    }
   ],
   "source": [
    "# TODO Test function with a trip that has 0 photos\n",
    "trip_zero_photos = {\n",
    "    \"city\": \"Nice\",\n",
    "    \"department\": 6,\n",
    "    \"photos_taken\": 0,\n",
    "    \"days_spent\": 4\n",
    "}\n",
    "\n",
    "print(compute_average_photos_per_day(trip_zero_photos))"
   ]
  },
  {
   "cell_type": "code",
   "execution_count": 9,
   "id": "1ea11ba0",
   "metadata": {},
   "outputs": [],
   "source": [
    "def compute_average_photos_per_day(trip):\n",
    "    \"\"\"\n",
    "    Calculate the average number of photos taken per day for a trip.\n",
    "\n",
    "    Parameters\n",
    "    ----------\n",
    "    trip (dict)\n",
    "        Dictionary containing trip details including 'photos_taken' and 'days_spent'.   \n",
    "\n",
    "    Returns\n",
    "    -------\n",
    "    float\n",
    "        Average number of photos taken per day. If 'photos_taken' is 0, returns 0.\n",
    "    \"\"\"\n",
    "    if trip['photos_taken'] == 0:\n",
    "        return 0\n",
    "    else:\n",
    "        return trip['photos_taken'] / trip['days_spent']"
   ]
  },
  {
   "cell_type": "markdown",
   "id": "bac9b0ad",
   "metadata": {},
   "source": [
    "### 6 - Compter les villes uniques visitées  \n",
    "Au lieu d'utiliser une boucle `for` pour parcourir les éléments d'une liste, on peut utiliser la **compréhension de liste**.\n",
    "\n",
    "__Exemple__\n",
    "\n",
    "\n",
    "```\n",
    "my_list = [100, 200, 300]\n",
    "comprehension_list = [value / 10 for value in my_list]\n",
    "comprehension_list\n",
    ">> [10.0, 20.0, 30.0]\n",
    "```\n",
    "\n",
    "**TODO**\n",
    "- Afficher la liste `trip_list` définie précédemment, vérifier qu'elle contient plusieurs villes différentes.\n",
    "- Créer la liste `cities` en adaptant l'exemple ci-dessus.\n",
    "- Affiche le nombre de villes différentes visitées, sans doublon. Utiliser `set(my_liste)`qui permet de conserver les éléments uniques d'une liste."
   ]
  },
  {
   "cell_type": "code",
   "execution_count": 10,
   "id": "2915a507",
   "metadata": {},
   "outputs": [
    {
     "name": "stdout",
     "output_type": "stream",
     "text": [
      "[{'city': 'Montpellier', 'department': 34, 'photos_taken': 150, 'days_spent': 5.5, 'season': 'été', 'distance_traveled': 50}, {'city': 'Paris', 'department': 75, 'photos_taken': 200, 'days_spent': 3, 'season': 'printemps', 'distance_traveled': 20}, {'city': 'Lyon', 'department': 69, 'photos_taken': 120, 'days_spent': 2, 'season': 'hiver', 'distance_traveled': 15}]\n"
     ]
    }
   ],
   "source": [
    "# TODO Print trip_list\n",
    "print(trip_list)  # Vérifie qu'il y a plusieurs villes différentes"
   ]
  },
  {
   "cell_type": "code",
   "execution_count": 11,
   "id": "ae25986e",
   "metadata": {},
   "outputs": [
    {
     "name": "stdout",
     "output_type": "stream",
     "text": [
      "Villes visitées : ['Montpellier', 'Paris', 'Lyon']\n",
      "Nombre de villes différentes visitées : 3\n"
     ]
    }
   ],
   "source": [
    "# Extract all visited cities\n",
    "cities = [trip[\"city\"] for trip in trip_list]\n",
    "\n",
    "# Create a set to get unique cities\n",
    "unique_cities = set(cities)\n",
    "\n",
    "# Print the number of unique cities\n",
    "print(f\"Villes visitées : {cities}\")\n",
    "print(f\"Nombre de villes différentes visitées : {len(unique_cities)}\")"
   ]
  },
  {
   "cell_type": "markdown",
   "id": "11c13169",
   "metadata": {},
   "source": [
    "### 7 - Trier les voyages par nombre de photos  \n",
    "\n",
    "**TODO**\n",
    "- Afficher les voyages du plus photographié au moins photographié. Utiliser la fonction [sorted](https://docs.python.org/3/library/functions.html#sorted) en allant lire la documentation de fonction."
   ]
  },
  {
   "cell_type": "code",
   "execution_count": 12,
   "id": "ac2706fa",
   "metadata": {},
   "outputs": [
    {
     "name": "stdout",
     "output_type": "stream",
     "text": [
      "Voyages du plus photographié au moins photographié :\n",
      "- Paris : 200 photos\n",
      "- Montpellier : 150 photos\n",
      "- Lyon : 120 photos\n"
     ]
    }
   ],
   "source": [
    "# TODO Print trips from the most photographed to the least photographed\n",
    "\n",
    "# Trier la liste des voyages par nombre de photos (du plus au moins)\n",
    "sorted_trips = sorted(trip_list, key=lambda t: t[\"photos_taken\"], reverse=True)\n",
    "\n",
    "print(\"Voyages du plus photographié au moins photographié :\")\n",
    "for t in sorted_trips:\n",
    "    print(f\"- {t['city']} : {t['photos_taken']} photos\")"
   ]
  }
 ],
 "metadata": {
  "kernelspec": {
   "display_name": ".venv",
   "language": "python",
   "name": "python3"
  },
  "language_info": {
   "codemirror_mode": {
    "name": "ipython",
    "version": 3
   },
   "file_extension": ".py",
   "mimetype": "text/x-python",
   "name": "python",
   "nbconvert_exporter": "python",
   "pygments_lexer": "ipython3",
   "version": "3.10.11"
  }
 },
 "nbformat": 4,
 "nbformat_minor": 5
}
